{
  "cells": [
    {
      "cell_type": "code",
      "execution_count": null,
      "metadata": {
        "id": "1Gk6ThRouo1d"
      },
      "outputs": [],
      "source": [
        "import torch\n",
        "import torch.nn as nn\n",
        "import torch.optim as optim\n",
        "from torchaudio import datasets, transforms\n",
        "import matplotlib.pyplot as plt\n",
        "from torch.utils.data import DataLoader\n",
        "import torch.nn.functional as F\n"
      ]
    },
    {
      "cell_type": "code",
      "execution_count": null,
      "metadata": {
        "id": "KMemga-G-rJs"
      },
      "outputs": [],
      "source": [
        "device = torch.device('cuda' if torch.cuda.is_available() else 'cpu')"
      ]
    },
    {
      "cell_type": "code",
      "execution_count": null,
      "metadata": {
        "colab": {
          "base_uri": "https://localhost:8080/"
        },
        "id": "7XiYhZyNg6lm",
        "outputId": "947d2f06-1b38-4474-8cda-6363dfc83cb3"
      },
      "outputs": [
        {
          "name": "stderr",
          "output_type": "stream",
          "text": [
            "100%|██████████| 2.26G/2.26G [00:57<00:00, 42.5MB/s]\n"
          ]
        }
      ],
      "source": [
        "train_data = datasets.SPEECHCOMMANDS(root='./data', download=True, subset='training')\n",
        "# valid_data = datasets.SPEECHCOMMANDS(root='./data', download=True, subset='validation')\n",
        "test_data = datasets.SPEECHCOMMANDS(root='./data', download=True, subset='testing')"
      ]
    },
    {
      "cell_type": "code",
      "execution_count": null,
      "metadata": {
        "colab": {
          "base_uri": "https://localhost:8080/"
        },
        "id": "o1iRKynawyYq",
        "outputId": "bc1151ba-a2e3-4ddd-e036-7a7a9bc67560"
      },
      "outputs": [
        {
          "name": "stderr",
          "output_type": "stream",
          "text": [
            "/usr/local/lib/python3.12/dist-packages/torchaudio/_backend/utils.py:213: UserWarning: In 2.9, this function's implementation will be changed to use torchaudio.load_with_torchcodec` under the hood. Some parameters like ``normalize``, ``format``, ``buffer_size``, and ``backend`` will be ignored. We recommend that you port your code to rely directly on TorchCodec's decoder instead: https://docs.pytorch.org/torchcodec/stable/generated/torchcodec.decoders.AudioDecoder.html#torchcodec.decoders.AudioDecoder.\n",
            "  warnings.warn(\n",
            "/usr/local/lib/python3.12/dist-packages/torchaudio/_backend/ffmpeg.py:88: UserWarning: torio.io._streaming_media_decoder.StreamingMediaDecoder has been deprecated. This deprecation is part of a large refactoring effort to transition TorchAudio into a maintenance phase. The decoding and encoding capabilities of PyTorch for both audio and video are being consolidated into TorchCodec. Please see https://github.com/pytorch/audio/issues/3902 for more information. It will be removed from the 2.9 release. \n",
            "  s = torchaudio.io.StreamReader(src, format, None, buffer_size)\n"
          ]
        }
      ],
      "source": [
        "labels = sorted(list(set([i[2] for i in train_data])))\n",
        "label_to_index = {label: i for i, label in enumerate(labels)}\n",
        "insex_to_label = {i: label for i, label in enumerate(labels)}\n",
        "speaker = list(set([i[3] for i in train_data]))"
      ]
    },
    {
      "cell_type": "code",
      "execution_count": null,
      "metadata": {
        "id": "Tlh99Wp38FQL"
      },
      "outputs": [],
      "source": [
        "transform = transforms.MelSpectrogram(\n",
        "    sample_rate= 16000,\n",
        "    n_mels=32\n",
        "\n",
        ")"
      ]
    },
    {
      "cell_type": "code",
      "execution_count": null,
      "metadata": {
        "id": "NfPkvBZFWz5g"
      },
      "outputs": [],
      "source": [
        "max_len = 100\n",
        "\n",
        "def collate_fn(batch):\n",
        "    spectrograms, targets = [], []\n",
        "    for waveform, sample_rate, label, *_ in batch:\n",
        "      spec = transform(waveform).squeeze(0)\n",
        "\n",
        "      if spec.shape[1] > max_len:\n",
        "        spec = spec[:, :max_len]\n",
        "\n",
        "      if spec.shape[1] < max_len:\n",
        "        pad_amount = max_len - spec.shape[1]\n",
        "        spec = F.pad(spec, (0, pad_amount))\n",
        "      spectrograms.append(spec)\n",
        "      targets.append(label_to_index[label])\n",
        "\n",
        "    spectrograms = torch.stack(spectrograms)\n",
        "    targets = torch.tensor(targets)\n",
        "\n",
        "    return spectrograms, targets"
      ]
    },
    {
      "cell_type": "code",
      "execution_count": null,
      "metadata": {
        "id": "eTjuFrFzuuz8"
      },
      "outputs": [],
      "source": [
        "train = DataLoader(train_data, batch_size=64, shuffle=True, collate_fn=collate_fn)\n",
        "test = DataLoader(test_data, batch_size=64, collate_fn=collate_fn)"
      ]
    },
    {
      "cell_type": "code",
      "execution_count": null,
      "metadata": {
        "id": "y1sJTuGYhoxf"
      },
      "outputs": [],
      "source": [
        "num_classes = len(labels)"
      ]
    },
    {
      "cell_type": "code",
      "execution_count": null,
      "metadata": {
        "id": "yvzNnWgwuu2m"
      },
      "outputs": [],
      "source": [
        "class CheckAudio(nn.Module):\n",
        "  def __init__(self):\n",
        "    super().__init__()\n",
        "    self.first = nn.Sequential(\n",
        "        nn.Conv2d(1, 32, kernel_size=3, padding=1),\n",
        "        nn.ReLU(),\n",
        "        nn.MaxPool2d(2),\n",
        "        nn.Conv2d(32, 64, kernel_size=3, padding=1),\n",
        "        nn.ReLU(),\n",
        "        nn.MaxPool2d(2),\n",
        "        nn.AdaptiveAvgPool2d((8, 8))\n",
        "    )\n",
        "    self.second = nn.Sequential(\n",
        "        nn.Flatten(),\n",
        "        nn.Linear(64 * 8 * 8, 128),\n",
        "        nn.ReLU(),\n",
        "        nn.Linear(128, num_classes)\n",
        "    )\n",
        "  def forward(self, x):\n",
        "    x = x.unsqueeze(1)\n",
        "    x = self.first(x)\n",
        "    x = self.second(x)\n",
        "    return x"
      ]
    },
    {
      "cell_type": "code",
      "execution_count": null,
      "metadata": {
        "id": "fdGV4quyuu5L"
      },
      "outputs": [],
      "source": [
        "model = CheckAudio().to(device)"
      ]
    },
    {
      "cell_type": "code",
      "execution_count": null,
      "metadata": {
        "id": "30OMINFbuu75"
      },
      "outputs": [],
      "source": [
        "loss_fn = nn.CrossEntropyLoss()\n",
        "optimizer = optim.Adam(model.parameters(), lr=0.001)"
      ]
    },
    {
      "cell_type": "code",
      "execution_count": null,
      "metadata": {
        "colab": {
          "background_save": true,
          "base_uri": "https://localhost:8080/"
        },
        "id": "2yYfzSMWuu-g",
        "outputId": "43469d94-f2f0-4fec-df13-2eb01efbb55f"
      },
      "outputs": [
        {
          "name": "stderr",
          "output_type": "stream",
          "text": [
            "/usr/local/lib/python3.12/dist-packages/torchaudio/_backend/utils.py:213: UserWarning: In 2.9, this function's implementation will be changed to use torchaudio.load_with_torchcodec` under the hood. Some parameters like ``normalize``, ``format``, ``buffer_size``, and ``backend`` will be ignored. We recommend that you port your code to rely directly on TorchCodec's decoder instead: https://docs.pytorch.org/torchcodec/stable/generated/torchcodec.decoders.AudioDecoder.html#torchcodec.decoders.AudioDecoder.\n",
            "  warnings.warn(\n",
            "/usr/local/lib/python3.12/dist-packages/torchaudio/_backend/ffmpeg.py:88: UserWarning: torio.io._streaming_media_decoder.StreamingMediaDecoder has been deprecated. This deprecation is part of a large refactoring effort to transition TorchAudio into a maintenance phase. The decoding and encoding capabilities of PyTorch for both audio and video are being consolidated into TorchCodec. Please see https://github.com/pytorch/audio/issues/3902 for more information. It will be removed from the 2.9 release. \n",
            "  s = torchaudio.io.StreamReader(src, format, None, buffer_size)\n"
          ]
        },
        {
          "name": "stdout",
          "output_type": "stream",
          "text": [
            "epoch 1, loss: 2764.8122\n",
            "epoch 2, loss: 1437.8333\n",
            "epoch 3, loss: 1114.3701\n",
            "epoch 4, loss: 939.7304\n",
            "epoch 5, loss: 822.8629\n",
            "epoch 6, loss: 738.5819\n",
            "epoch 7, loss: 669.3671\n",
            "epoch 8, loss: 619.1836\n",
            "epoch 9, loss: 568.9691\n",
            "epoch 10, loss: 529.6503\n",
            "epoch 11, loss: 493.1725\n",
            "epoch 12, loss: 474.8859\n",
            "epoch 13, loss: 435.7707\n",
            "epoch 14, loss: 426.3704\n",
            "epoch 15, loss: 378.3901\n",
            "epoch 16, loss: 369.1787\n",
            "epoch 17, loss: 355.2971\n",
            "epoch 18, loss: 347.1122\n",
            "epoch 19, loss: 328.1899\n",
            "epoch 20, loss: 306.6942\n"
          ]
        }
      ],
      "source": [
        "for epoch in range(20):\n",
        "    model.train()\n",
        "    total_loss = 0\n",
        "\n",
        "    for x_batch, y_batch in train:\n",
        "        x_batch, y_batch = x_batch.to(device), y_batch.to(device)\n",
        "        y_pred_train = model(x_batch)\n",
        "\n",
        "        loss = loss_fn(y_pred_train, y_batch)\n",
        "\n",
        "        optimizer.zero_grad()\n",
        "        loss.backward()\n",
        "        optimizer.step()\n",
        "\n",
        "        total_loss += loss.item()\n",
        "    print(f'epoch {epoch+1}, loss: {total_loss:.4f}')\n"
      ]
    },
    {
      "cell_type": "code",
      "execution_count": null,
      "metadata": {
        "id": "fPNipo5OuvBL"
      },
      "outputs": [],
      "source": [
        "model.eval()\n",
        "correct = 0\n",
        "total = 0\n",
        "\n",
        "with torch.no_grad():\n",
        "  for x_batch, y_batch in test:\n",
        "    x_batch, y_batch = x_batch.to(device), y_batch.to(device)\n",
        "    y_pred_test = model(x_batch)\n",
        "    predicted = torch.argmax(y_pred_test, dim=1)\n",
        "\n",
        "    total += y_batch.size(0)\n",
        "    correct += (predicted == y_batch).sum().item()\n",
        "\n",
        "accuracy = 100 * correct / total\n",
        "print(f'toch models is test datasets:  {accuracy:.2f}%')"
      ]
    },
    {
      "cell_type": "code",
      "execution_count": null,
      "metadata": {
        "id": "-wwGVC8GuvEM"
      },
      "outputs": [],
      "source": []
    },
    {
      "cell_type": "code",
      "execution_count": null,
      "metadata": {
        "id": "a-CIEF_MuvGp"
      },
      "outputs": [],
      "source": []
    },
    {
      "cell_type": "code",
      "execution_count": null,
      "metadata": {
        "id": "EMmsavkIuvIx"
      },
      "outputs": [],
      "source": []
    },
    {
      "cell_type": "code",
      "execution_count": null,
      "metadata": {
        "id": "n5Xf6xCeuvKx"
      },
      "outputs": [],
      "source": []
    },
    {
      "cell_type": "code",
      "execution_count": null,
      "metadata": {
        "id": "pPbLgNONuvN9"
      },
      "outputs": [],
      "source": []
    },
    {
      "cell_type": "code",
      "execution_count": null,
      "metadata": {
        "id": "bOMJ9rkruvV4"
      },
      "outputs": [],
      "source": []
    },
    {
      "cell_type": "code",
      "execution_count": null,
      "metadata": {
        "id": "U0touEz2uvYM"
      },
      "outputs": [],
      "source": []
    }
  ],
  "metadata": {
    "accelerator": "GPU",
    "colab": {
      "gpuType": "T4",
      "provenance": []
    },
    "kernelspec": {
      "display_name": "Python 3",
      "name": "python3"
    },
    "language_info": {
      "name": "python"
    }
  },
  "nbformat": 4,
  "nbformat_minor": 0
}